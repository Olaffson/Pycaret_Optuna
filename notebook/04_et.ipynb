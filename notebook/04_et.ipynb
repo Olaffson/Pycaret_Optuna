{
 "cells": [
  {
   "attachments": {},
   "cell_type": "markdown",
   "metadata": {},
   "source": [
    "# Test avec ExtraTreesRegressor"
   ]
  },
  {
   "cell_type": "code",
   "execution_count": 2,
   "metadata": {},
   "outputs": [],
   "source": [
    "import seaborn as sns\n",
    "import matplotlib.pyplot as plt\n",
    "import pandas as pd\n",
    "import numpy as np\n",
    "from sklearn.model_selection import train_test_split\n",
    "from sklearn.preprocessing import OneHotEncoder, StandardScaler\n",
    "from sklearn.pipeline import Pipeline\n",
    "from sklearn.compose import ColumnTransformer\n",
    "from sklearn.ensemble import RandomForestRegressor\n",
    "from sklearn.metrics import mean_squared_error, mean_absolute_error, r2_score\n",
    "from sklearn.ensemble import ExtraTreesRegressor"
   ]
  },
  {
   "cell_type": "code",
   "execution_count": 3,
   "metadata": {},
   "outputs": [],
   "source": [
    "df = pd.read_csv(\"../data/silver.csv\")"
   ]
  },
  {
   "cell_type": "code",
   "execution_count": 4,
   "metadata": {},
   "outputs": [],
   "source": [
    "# column_titles = df.columns.tolist()\n",
    "# column_titles"
   ]
  },
  {
   "cell_type": "code",
   "execution_count": 5,
   "metadata": {},
   "outputs": [
    {
     "name": "stdout",
     "output_type": "stream",
     "text": [
      "######## Mean squared error : \n",
      "TRAIN : 0.0\n",
      "TEST : 9667138.539215686\n",
      "/////////////////////////////////////////////////////\n",
      "######## Mean absolute error : \n",
      "TRAIN : 0.0\n",
      "TEST : 1914.6568627450981\n",
      "/////////////////////////////////////////////////////\n",
      "######## R2 score : \n",
      "TRAIN : 1.0\n",
      "TEST : 0.8681761921639675\n"
     ]
    }
   ],
   "source": [
    "X = df.drop([\"prix_median\"], axis=1)\n",
    "y = df['prix_median']\n",
    "X_train, X_test, y_train, y_test = train_test_split(X, y, train_size=0.8, shuffle=True, random_state=42)\n",
    "\n",
    "categorial_features = [\"proximité_autoroute\", \"riviere\"]\n",
    "\n",
    "numerical_features = ['tx_crim', 'tx_residence','tx_commerce',\n",
    "       'tx_nitriq', 'nb_piece', 'tx_ancienneté_parc_immo', 'distance_centre_emploi',\n",
    "        'indice_impot_foncier',  'ratio_eleve_enseignant', 'tx_person_couleur',  'tx_status_sociaux_eco_inf']\n",
    "\n",
    "categorical_transformer = OneHotEncoder(sparse_output=True)\n",
    "numerical_transformer = StandardScaler()\n",
    "\n",
    "preprocessor = ColumnTransformer(\n",
    "    transformers=[\n",
    "        ('cat', categorical_transformer, categorial_features),\n",
    "        ('num', numerical_transformer, numerical_features)\n",
    "    ],\n",
    "    remainder=\"passthrough\" \n",
    ")\n",
    "\n",
    "# Créer un objet CatBoostRegressor\n",
    "cb_reg = ExtraTreesRegressor(random_state=42, verbose=False)\n",
    "\n",
    "\n",
    "# Créer un pipeline avec le préprocesseur et le modèle CatBoostRegressor\n",
    "pipe = Pipeline([\n",
    "     ('preprocessor', preprocessor),\n",
    "     ('cb_reg', cb_reg)\n",
    "])\n",
    "\n",
    "# Entraîner le pipeline sur les données d'entraînement\n",
    "pipe.fit(X_train, y_train)\n",
    "y_pred_train = pipe.predict(X_train)\n",
    "y_pred_test = pipe.predict(X_test)\n",
    "\n",
    "print(\"######## Mean squared error : \")\n",
    "print(\"TRAIN :\",mean_squared_error(y_train, y_pred_train))\n",
    "print(\"TEST :\",mean_squared_error(y_test, y_pred_test))\n",
    "print(\"/////////////////////////////////////////////////////\")\n",
    "\n",
    "print(\"######## Mean absolute error : \")\n",
    "print(\"TRAIN :\",mean_absolute_error(y_train, y_pred_train))\n",
    "print(\"TEST :\",mean_absolute_error(y_test, y_pred_test))\n",
    "print(\"/////////////////////////////////////////////////////\")\n",
    "\n",
    "print(\"######## R2 score : \")    \n",
    "print(\"TRAIN :\",r2_score(y_train, y_pred_train))\n",
    "print(\"TEST :\",r2_score(y_test, y_pred_test))"
   ]
  },
  {
   "attachments": {},
   "cell_type": "markdown",
   "metadata": {},
   "source": [
    "### Optuna (recherche des hyperparametres)"
   ]
  },
  {
   "cell_type": "code",
   "execution_count": 6,
   "metadata": {},
   "outputs": [],
   "source": [
    "import optuna\n",
    "from sklearn.metrics import r2_score"
   ]
  }
 ],
 "metadata": {
  "kernelspec": {
   "display_name": "sklearn-env",
   "language": "python",
   "name": "python3"
  },
  "language_info": {
   "codemirror_mode": {
    "name": "ipython",
    "version": 3
   },
   "file_extension": ".py",
   "mimetype": "text/x-python",
   "name": "python",
   "nbconvert_exporter": "python",
   "pygments_lexer": "ipython3",
   "version": "3.8.16"
  },
  "orig_nbformat": 4
 },
 "nbformat": 4,
 "nbformat_minor": 2
}
